{
 "cells": [
  {
   "cell_type": "markdown",
   "id": "2b621a95-99e4-426d-abf5-bfd604efc5ac",
   "metadata": {},
   "source": [
    "### Climatology restricted to DNN training and testing times at bottom"
   ]
  },
  {
   "cell_type": "code",
   "execution_count": null,
   "id": "d0967ba9-d5da-4c76-b67d-8be44d5adf31",
   "metadata": {},
   "outputs": [],
   "source": [
    "import datetime\n",
    "import logging\n",
    "import os\n",
    "from pathlib import Path\n",
    "\n",
    "import cartopy.crs as ccrs\n",
    "import matplotlib.colors as colors\n",
    "import matplotlib.pyplot as plt\n",
    "import numpy as np\n",
    "import pandas as pd\n",
    "import xarray\n",
    "from matplotlib.colors import BoundaryNorm, ListedColormap\n",
    "\n",
    "%matplotlib inline\n",
    "from metpy.units import units\n",
    "\n",
    "# for ratio plots\n",
    "from scipy.ndimage import gaussian_filter\n",
    "\n",
    "import G211\n",
    "import nclcmaps\n",
    "from ml_functions import get_args, get_glm\n",
    "from statisticplot import make_map\n",
    "\n",
    "logging.basicConfig(level=logging.INFO, format=\"%(asctime)s %(message)s\")"
   ]
  },
  {
   "cell_type": "code",
   "execution_count": null,
   "id": "26cdba77-1b53-44b5-814d-88121b2f4739",
   "metadata": {},
   "outputs": [],
   "source": [
    "rptdist = 20\n",
    "twin = 1\n",
    "tmpdir = Path(os.getenv(\"TMPDIR\"))"
   ]
  },
  {
   "cell_type": "code",
   "execution_count": null,
   "id": "4152093c-f791-468d-8b20-f413f8e0a0be",
   "metadata": {
    "tags": []
   },
   "outputs": [],
   "source": [
    "# map projection\n",
    "map_crs = G211.g211\n",
    "makemapkw = dict(projection=map_crs, scale=1.3, draw_labels=False)\n",
    "\n",
    "test = nclcmaps.colors[\"MPL_Greys\"][6:-25:] + nclcmaps.colors[\"MPL_Reds\"]\n",
    "cmap = ListedColormap(test, \"GreysReds\")\n",
    "n = 23 if rptdist == 40 else 10\n",
    "norm = BoundaryNorm(range(n), ncolors=cmap.N, clip=True)"
   ]
  },
  {
   "cell_type": "markdown",
   "id": "0e152d10-f599-462e-b90d-345eba53aa36",
   "metadata": {},
   "source": [
    "### GLM longterm average from beginning of GLM (20180213T17)"
   ]
  },
  {
   "cell_type": "code",
   "execution_count": null,
   "id": "a0109b78-2dc5-4923-8b0e-c49a0b49bed9",
   "metadata": {},
   "outputs": [],
   "source": [
    "GLMnc = f\"GLM/longterm_average.glm_{rptdist}km_{twin}hr.nc\"\n",
    "GLM_mean = xarray.open_dataset(GLMnc)\n",
    "# history attribute contains the NCO command that created this netCDF file\n",
    "# The NCO command contains a list of files that went into this file.\n",
    "ifiles = GLM_mean.attrs[\"nco_input_file_list\"].split()\n",
    "\n",
    "time_range = \" - \".join([ifiles[0][:18], ifiles[-1][:18]])\n",
    "glm_tmin = datetime.datetime.strptime(min(ifiles)[5:18], \"%Y%m%d_%H%M\")\n",
    "glm_tmax = datetime.datetime.strptime(max(ifiles)[5:18], \"%Y%m%d_%H%M\")\n",
    "\n",
    "fig, ax = make_map(**makemapkw)\n",
    "GLM_mean = GLM_mean / (twin * units.hour)\n",
    "sc = GLM_mean[\"flashes\"].plot(\n",
    "    x=\"lon\",\n",
    "    y=\"lat\",\n",
    "    cmap=cmap,\n",
    "    transform=ccrs.PlateCarree(),\n",
    "    ax=ax,\n",
    "    norm=norm,\n",
    "    cbar_kwargs={\"shrink\": 0.75},\n",
    ")\n",
    "ax.set_title(f\"{rptdist}km GLM\\n{time_range}\")\n",
    "base, ext = os.path.splitext(GLMnc)\n",
    "ofile = os.path.realpath(base + \".png\")\n",
    "fig.savefig(ofile)\n",
    "logging.warning(f\"made {ofile}\")\n",
    "del GLM_mean.attrs[\"nco_input_file_list\"]"
   ]
  },
  {
   "cell_type": "code",
   "execution_count": null,
   "id": "5bf417d9-d38b-42e4-9d9a-181c56974c92",
   "metadata": {},
   "outputs": [],
   "source": [
    "wxbugnc = f\"wbug_lightning/flash.{rptdist}km_30min.nc\"\n",
    "logging.info(f\"open wbug {wxbugnc}\")\n",
    "wb = xarray.open_dataset(wxbugnc)\n",
    "\n",
    "dt = wb.time_coverage_start.diff(dim=\"time_coverage_start\").median()\n",
    "assert dt.dt.seconds == 1800\n",
    "\n",
    "# Should match ml_functions.load_df()\n",
    "# mean of 30-minute lightning blocks in time window, times twin * 2\n",
    "logging.info(f\"sum weatherbug {rptdist}km flashes in {twin}hr time window\")\n",
    "\n",
    "wb_cnt = (\n",
    "    wb.resample(time_coverage_start=\"30min\")\n",
    "    .first()\n",
    "    .rolling(\n",
    "        dim={\"time_coverage_start\": twin * 2},\n",
    "        min_periods=twin,\n",
    "        center=True,\n",
    "    )\n",
    "    .mean()\n",
    "    .rename({\"time_coverage_start\": \"valid_time\"})\n",
    "    * twin\n",
    "    * 2\n",
    ")\n",
    "\n",
    "wb_cnt_slice = wb_cnt.sel(\n",
    "    valid_time=slice(glm_tmin, glm_tmax)\n",
    ")  # same time slice as GLM\n",
    "fmt = \"%Y%m%d %H:%M\"\n",
    "tmin = wb_cnt_slice.valid_time.min().dt.strftime(fmt)\n",
    "tmax = wb_cnt_slice.valid_time.max().dt.strftime(fmt)\n",
    "\n",
    "title = f\"[{tmin.data}, {tmax.data}]\"\n",
    "\n",
    "logging.info(f\"average {wb_cnt_slice.valid_time.size} times {title}\")\n",
    "wb_mean = wb_cnt_slice.mean(dim=\"valid_time\")\n",
    "logging.info(\"done\")"
   ]
  },
  {
   "cell_type": "code",
   "execution_count": null,
   "id": "df0ef182-37f1-4adb-865d-6c6c4d91726a",
   "metadata": {},
   "outputs": [],
   "source": [
    "fig, ax = make_map(**makemapkw)\n",
    "sc = (wb_mean.cg + wb_mean.ic).plot(\n",
    "    x=\"lon\",\n",
    "    y=\"lat\",\n",
    "    cmap=cmap,\n",
    "    transform=ccrs.PlateCarree(),\n",
    "    norm=norm,\n",
    "    cbar_kwargs={\"shrink\": 0.75},\n",
    ")\n",
    "ax.set_title(f\"WxBug cg+ic {title}\")\n",
    "\n",
    "base, ext = os.path.splitext(GLMnc)\n",
    "ofile = f\"{base}.png\"\n",
    "fig.savefig(ofile)\n",
    "logging.warning(f\"made {ofile}\")"
   ]
  },
  {
   "cell_type": "code",
   "execution_count": null,
   "id": "16eac165-d70d-491e-b236-d661339b2329",
   "metadata": {},
   "outputs": [],
   "source": [
    "# Merge GLM and WxBug Datasets (long term averages)\n",
    "# lat/lons are a little different (within machine precision)\n",
    "ds = glm.squeeze().drop_vars(\"time\").merge(wb_mean, compat=\"override\")"
   ]
  },
  {
   "cell_type": "code",
   "execution_count": null,
   "id": "11ad61ca-5d22-4a7d-90c0-b4e42ab0a334",
   "metadata": {},
   "outputs": [],
   "source": [
    "def ratio_plot(r, title, ofile):\n",
    "    levels = [10, 50, 75, 90, 110, 133, 200, 1000]\n",
    "    sigma = 2.5\n",
    "    fig, ax = make_map(**makemapkw)\n",
    "    CS = r.plot(\n",
    "        x=\"lon\",\n",
    "        y=\"lat\",\n",
    "        transform=ccrs.PlateCarree(),\n",
    "        ax=ax,\n",
    "        norm=colors.LogNorm(vmin=min(levels), vmax=max(levels)),\n",
    "        cmap=\"RdBu_r\",\n",
    "        cbar_kwargs={\"shrink\": 0.75},\n",
    "    )\n",
    "    r.data = gaussian_filter(r.data, sigma)\n",
    "    CS = r.plot.contour(\n",
    "        x=\"lon\",\n",
    "        y=\"lat\",\n",
    "        transform=ccrs.PlateCarree(),\n",
    "        levels=levels,\n",
    "        colors=\"0.2\",\n",
    "        ax=ax,\n",
    "    )\n",
    "    ax.clabel(CS)\n",
    "    ax.set_title(title)\n",
    "    fig.savefig(ofile)\n",
    "    logging.warning(f\"made {ofile}\")"
   ]
  },
  {
   "cell_type": "code",
   "execution_count": null,
   "id": "e40d75a6-8f8d-45d0-9acf-6f3408f0a296",
   "metadata": {},
   "outputs": [],
   "source": [
    "r = ds.flashes / (ds.cg + ds.ic)\n",
    "ratio_plot(\n",
    "    r * 100, \"ratio: GLM / WxBug (cg+ic) total flashes\", base + \".GLMWxBugratio.png\"\n",
    ")"
   ]
  },
  {
   "cell_type": "code",
   "execution_count": null,
   "id": "7ec0592a-a39c-460e-be3b-9e7f5ed7690d",
   "metadata": {},
   "outputs": [],
   "source": [
    "r = ds.flashes / ds.ic\n",
    "ratio_plot(r * 100, \"ratio: GLM / WxBug IC flashes\", base + \".GLMICratio.png\")"
   ]
  },
  {
   "cell_type": "code",
   "execution_count": null,
   "id": "58ba7492-308d-451c-ac97-43b408172a41",
   "metadata": {},
   "outputs": [],
   "source": [
    "fig, ax = plt.subplots()\n",
    "(ds.cg + ds.ic).plot.hist(\n",
    "    ax=ax,\n",
    "    yscale=\"log\",\n",
    "    bins=range(5, 210, 10),\n",
    "    xlim=(5, 200),\n",
    "    label=\"WxBug cg + ic)\",\n",
    ")\n",
    "ds.flashes.plot.hist(\n",
    "    ax=ax, yscale=\"log\", bins=range(5, 210, 10), xlim=(5, 200), label=\"GLM\"\n",
    ")\n",
    "ax.legend()\n",
    "ax.grid()"
   ]
  },
  {
   "cell_type": "code",
   "execution_count": null,
   "id": "8914ffd3-31f7-4c37-8a11-fd03ed561877",
   "metadata": {},
   "outputs": [],
   "source": [
    "time_space_window = (twin, rptdist)\n",
    "glm_twin = get_glm(time_space_window, start=glm_tmin, end=glm_tmax)"
   ]
  },
  {
   "cell_type": "code",
   "execution_count": null,
   "id": "7955e190",
   "metadata": {},
   "outputs": [],
   "source": [
    "fig, ax = plt.subplots()\n",
    "(wb_cnt_slice.cg + wb_cnt_slice.ic).plot.hist(\n",
    "    ax=ax,\n",
    "    yscale=\"log\",\n",
    "    bins=range(5, 210, 10),\n",
    "    xlim=(5, 200),\n",
    "    label=\"WxBug ic)\",\n",
    ")\n",
    "glm_twin[var].plot.hist(\n",
    "    ax=ax, yscale=\"log\", bins=range(5, 210, 10), xlim=(5, 200), label=\"GLM\"\n",
    ")\n",
    "ax.legend()\n",
    "ax.grid()"
   ]
  },
  {
   "cell_type": "code",
   "execution_count": null,
   "id": "14309605-d1d7-4218-ae6f-4c830b5c67ec",
   "metadata": {},
   "outputs": [],
   "source": [
    "o_thresh = 1\n",
    "norm = BoundaryNorm(np.arange(0, 10.0, 0.5), ncolors=cmap.N, clip=True)\n",
    "\n",
    "fig, ax = make_map(**makemapkw)\n",
    "var = f\"flashes_{rptdist}km_{twin}hr\"\n",
    "base_rate_glm = ((glm_twin[var] >= o_thresh) * 100).mean(dim=\"valid_time\")\n",
    "base_rate_glm.name = \"base rate [%]\"\n",
    "base_rate_glm.plot(\n",
    "    x=\"lon\",\n",
    "    y=\"lat\",\n",
    "    ax=ax,\n",
    "    cmap=cmap,\n",
    "    norm=norm,\n",
    "    transform=ccrs.PlateCarree(),\n",
    "    cbar_kwargs={\"shrink\": 0.75},\n",
    ")\n",
    "ax.set_title(\n",
    "    f\"{o_thresh}+ GLM {var.replace(f'_{rptdist}km',' per grid box').replace('_',' per ')}\"\n",
    ")\n",
    "ofile = f\"{o_thresh}+{var}.png\"\n",
    "fig.savefig(ofile)\n",
    "logging.warning(f\"made {ofile}\")"
   ]
  },
  {
   "cell_type": "code",
   "execution_count": null,
   "id": "e5a95a69-5413-4ae6-b8fb-45230824b778",
   "metadata": {},
   "outputs": [],
   "source": [
    "fig, ax = make_map(**makemapkw)\n",
    "base_rate_wb = (( wb_cnt_slice.cg + wb_cnt_slice.ic >= o_thresh) * 100).mean(dim=\"valid_time\")\n",
    "base_rate_wb.name = \"base rate [%]\"\n",
    "base_rate_wb.plot(\n",
    "    x=\"lon\",\n",
    "    y=\"lat\",\n",
    "    ax=ax,\n",
    "    cmap=cmap,\n",
    "    norm=norm,\n",
    "    transform=ccrs.PlateCarree(),\n",
    "    cbar_kwargs={\"shrink\": 0.75},\n",
    ")\n",
    "ax.set_title(\n",
    "    f\"{o_thresh}+ total WxBug (cg+ic) {var.replace(f'_{rptdist}km',' per grid box').replace('_',' per ')}\"\n",
    ")\n",
    "ofile = f\"{o_thresh}+cg.ic_{rptdist}km_{twin}hr\" + \".png\"\n",
    "fig.savefig(ofile)\n",
    "logging.warning(f\"made {ofile}\")"
   ]
  },
  {
   "cell_type": "code",
   "execution_count": null,
   "id": "5b688be6-fb62-41ba-bde2-86f2e033ca70",
   "metadata": {},
   "outputs": [],
   "source": [
    "# .values to prevent lat and lon coordinates from going\n",
    "# away when dividing (they're slightly different)\n",
    "r = base_rate_glm / base_rate_wb.values\n",
    "r.name = \"ratio [%]\"\n",
    "ratio_plot(\n",
    "    r * 100,\n",
    "    f\"{o_thresh}+{var} base rate ratio: GLM / WxBug\",\n",
    "    f\"{o_thresh}+{var}.GLM-WxBugratio.png\",\n",
    ")"
   ]
  },
  {
   "cell_type": "markdown",
   "id": "a2f26451-8475-4310-bc0e-d20d6d42b395",
   "metadata": {},
   "source": [
    "## Same time range as DNN train and test"
   ]
  },
  {
   "cell_type": "code",
   "execution_count": null,
   "id": "38d01ce7-5999-4055-a888-929526d2cca6",
   "metadata": {},
   "outputs": [],
   "source": [
    "import matplotlib.dates as mdates\n",
    "import matplotlib.ticker as ticker\n",
    "\n",
    "args = get_args(o_thresh, twin)\n",
    "fig, ax = plt.subplots(figsize=(10, 0.4))\n",
    "ax.plot()\n",
    "# Major ticks every half year, minor ticks every month,\n",
    "ax.xaxis.set_major_locator(mdates.MonthLocator(bymonth=(1, 7)))\n",
    "ax.xaxis.set_major_formatter(mdates.DateFormatter(\"%Y-%m\"))\n",
    "ax.xaxis.set_minor_locator(mdates.MonthLocator())\n",
    "ax.yaxis.set_major_locator(ticker.NullLocator())\n",
    "lw = 14\n",
    "ax.hlines(0, args.trainstart, args.trainend, label=\"train\", lw=lw)\n",
    "ax.hlines(0, args.teststart, args.testend, label=\"test\", color=\"orange\", lw=lw)\n",
    "ax.legend(loc=\"upper left\", bbox_to_anchor=(1.03, 1.0))\n",
    "ax.set_title(\n",
    "    f\"[{args.trainstart:%Y%m%d %-H UTC}, {args.trainend:%Y%m%d %-H UTC})  [{args.teststart:%Y%m%d %-H UTC}, {args.testend:%Y%m%d %-H UTC})\"\n",
    ")\n",
    "ax.grid()"
   ]
  },
  {
   "cell_type": "code",
   "execution_count": null,
   "id": "9c9b6a60-4659-4913-8344-87e3c277993d",
   "metadata": {},
   "outputs": [],
   "source": [
    "glm20 = get_glm(\n",
    "    (twin, rptdist), start=args.trainstart, end=args.testend - pd.Timedelta(minutes=30)\n",
    ")"
   ]
  },
  {
   "cell_type": "code",
   "execution_count": null,
   "id": "07b50ebf-c4b6-4037-abe8-9bc4a48820a6",
   "metadata": {},
   "outputs": [],
   "source": [
    "var = f\"flashes_{rptdist}km_{twin}hr\"\n",
    "base_rate_glm = ((glm20[var] >= o_thresh) * 100).mean(dim=\"valid_time\")\n",
    "base_rate_glm.name = \"base rate [%]\"\n",
    "\n",
    "fig, ax = make_map(**makemapkw)\n",
    "base_rate_glm.plot(\n",
    "    x=\"lon\",\n",
    "    y=\"lat\",\n",
    "    ax=ax,\n",
    "    cmap=cmap,\n",
    "    norm=norm,\n",
    "    transform=ccrs.PlateCarree(),\n",
    "    cbar_kwargs={\"shrink\": 0.75},\n",
    ")\n",
    "ax.set_title(\n",
    "    f\"base rate {o_thresh}+ GLM {var.replace(f'_{rptdist}km',' per grid box').replace('_',' per ')}\"\n",
    "    f\"\\n{glm20.valid_time.min().dt.strftime('%Y%m%d %-H UTC').data} - {glm20.valid_time.max().dt.strftime('%Y%m%d %_H UTC').data}\"\n",
    ")\n",
    "ofile = f\"baserate_{o_thresh}+{var}.png\"\n",
    "fig.savefig(ofile)\n",
    "logging.warning(f\"made {ofile}\")"
   ]
  },
  {
   "cell_type": "code",
   "execution_count": null,
   "id": "6f5b076d-49f7-4176-9a35-4c881d9635a2",
   "metadata": {},
   "outputs": [],
   "source": [
    "wb_cnt_slice = wb_cnt.sel(valid_time=slice(args.trainstart, args.testend - pd.Timedelta(minutes=30)))\n",
    "\n",
    "fig, ax = make_map(**makemapkw)\n",
    "base_rate_wb = ((wb_cnt_slice.cg + wb_cnt_slice.ic >= o_thresh) * 100).mean(dim=\"valid_time\")\n",
    "base_rate_wb.name = \"base rate [%]\"\n",
    "\n",
    "base_rate_wb.plot(\n",
    "    x=\"lon\",\n",
    "    y=\"lat\",\n",
    "    ax=ax,\n",
    "    cmap=cmap,\n",
    "    norm=norm,\n",
    "    transform=ccrs.PlateCarree(),\n",
    "    cbar_kwargs={\"shrink\": 0.75},\n",
    ")\n",
    "ax.set_title(\n",
    "    f\"base rate {o_thresh}+ WxBug (cg+ic) {var.replace(f'_{rptdist}km',' per grid box').replace('_',' per ')}\"\n",
    "    f\"\\n{wb_cnt_slice.valid_time.min().dt.strftime('%Y%m%d %-H UTC').data} - {wb_cnt_slice.valid_time.max().dt.strftime('%Y%m%d %_H UTC').data}\"\n",
    ")\n",
    "ofile = f\"baserate_{o_thresh}+cg.ic_{rptdist}km_{twin}hr\" + \".png\"\n",
    "fig.savefig(ofile)\n",
    "logging.warning(f\"made {ofile}\")"
   ]
  },
  {
   "cell_type": "code",
   "execution_count": null,
   "id": "b261adf6-0e45-4c50-bc56-ae16a1c51974",
   "metadata": {},
   "outputs": [],
   "source": []
  },
  {
   "cell_type": "code",
   "execution_count": null,
   "id": "51ea3ad0-e478-4704-9a14-be0a6211b67c",
   "metadata": {},
   "outputs": [],
   "source": []
  },
  {
   "cell_type": "code",
   "execution_count": null,
   "id": "add54d4f-57d9-430e-9183-a579452bf651",
   "metadata": {},
   "outputs": [],
   "source": []
  }
 ],
 "metadata": {
  "kernelspec": {
   "display_name": "Python [conda env:tf]",
   "language": "python",
   "name": "conda-env-tf-py"
  },
  "language_info": {
   "codemirror_mode": {
    "name": "ipython",
    "version": 3
   },
   "file_extension": ".py",
   "mimetype": "text/x-python",
   "name": "python",
   "nbconvert_exporter": "python",
   "pygments_lexer": "ipython3",
   "version": "3.11.7"
  }
 },
 "nbformat": 4,
 "nbformat_minor": 5
}

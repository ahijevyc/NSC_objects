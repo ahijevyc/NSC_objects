{
 "cells": [
  {
   "cell_type": "code",
   "execution_count": 1,
   "id": "5db5fd0b-fbb3-4620-a0f6-59f633d23e97",
   "metadata": {},
   "outputs": [
    {
     "name": "stderr",
     "output_type": "stream",
     "text": [
      "2024-09-21 12:37:50.200641: I tensorflow/core/util/port.cc:113] oneDNN custom operations are on. You may see slightly different numerical results due to floating-point round-off errors from different computation orders. To turn them off, set the environment variable `TF_ENABLE_ONEDNN_OPTS=0`.\n",
      "2024-09-21 12:37:50.260074: I tensorflow/core/platform/cpu_feature_guard.cc:182] This TensorFlow binary is optimized to use available CPU instructions in performance-critical operations.\n",
      "To enable the following instructions: SSE4.1 SSE4.2 AVX AVX2 AVX512F AVX512_VNNI FMA, in other operations, rebuild TensorFlow with the appropriate compiler flags.\n"
     ]
    }
   ],
   "source": [
    "import os\n",
    "import dask.dataframe as dd\n",
    "import pandas as pd\n",
    "from pathlib import Path\n",
    "import ml_functions"
   ]
  },
  {
   "cell_type": "code",
   "execution_count": 8,
   "id": "c8b50fb8-d4de-4f26-9c78-85e9e27e8ffb",
   "metadata": {},
   "outputs": [],
   "source": [
    "TMPDIR = os.getenv(\"TMPDIR\")\n",
    "\n",
    "old = pd.read_parquet(Path(TMPDIR) / f\"HRRR.4hr.par\")\n",
    "new = pd.read_parquet(Path(TMPDIR) / f\"HRRR.4hr.par_hide\")"
   ]
  },
  {
   "cell_type": "code",
   "execution_count": 9,
   "id": "7735a766-a409-4537-bd14-a68316572113",
   "metadata": {},
   "outputs": [
    {
     "name": "stdout",
     "output_type": "stream",
     "text": [
      "<class 'pandas.core.frame.DataFrame'>\n",
      "MultiIndex: 164248705 entries, (0.0, 0.0, Timestamp('2020-11-30 00:00:00'), Timestamp('2020-12-02 00:00:00'), 12, 48, 48, 26.24666404724121, -98.2596664428711) to (nan, nan, nan, Timestamp('2022-01-01 00:00:00'), 38, 72, 24, 43.88113883653136, -75.8128258641754)\n",
      "Data columns (total 16 columns):\n",
      " #   Column                       Dtype  \n",
      "---  ------                       -----  \n",
      " 0   (y_pred, cg_20km_4hr)        float32\n",
      " 1   (y_pred, ic_20km_4hr)        float32\n",
      " 2   (y_pred, cg.ic_20km_4hr)     float32\n",
      " 3   (y_pred, flashes_20km_4hr)   float32\n",
      " 4   (y_pred, cg_40km_4hr)        float32\n",
      " 5   (y_pred, ic_40km_4hr)        float32\n",
      " 6   (y_pred, cg.ic_40km_4hr)     float32\n",
      " 7   (y_pred, flashes_40km_4hr)   float32\n",
      " 8   (y_label, cg_20km_4hr)       float32\n",
      " 9   (y_label, ic_20km_4hr)       float32\n",
      " 10  (y_label, cg.ic_20km_4hr)    float32\n",
      " 11  (y_label, flashes_20km_4hr)  float32\n",
      " 12  (y_label, cg_40km_4hr)       float32\n",
      " 13  (y_label, ic_40km_4hr)       float32\n",
      " 14  (y_label, cg.ic_40km_4hr)    float32\n",
      " 15  (y_label, flashes_40km_4hr)  float32\n",
      "dtypes: float32(16)\n",
      "memory usage: 11.8 GB\n"
     ]
    }
   ],
   "source": [
    "old.info()"
   ]
  },
  {
   "cell_type": "code",
   "execution_count": 10,
   "id": "71ba11e4-f69c-4d98-b181-a1390e56a945",
   "metadata": {},
   "outputs": [
    {
     "name": "stdout",
     "output_type": "stream",
     "text": [
      "<class 'pandas.core.frame.DataFrame'>\n",
      "MultiIndex: 120663000 entries, (0, 0, Timestamp('2020-11-30 00:00:00'), Timestamp('2020-12-02 00:00:00'), 12, 48, 48, 26.246664, -98.25967) to (0, 4, Timestamp('2021-12-31 00:00:00'), Timestamp('2021-12-31 23:00:00'), 46, 29, 23, 48.911613, -118.32521)\n",
      "Data columns (total 16 columns):\n",
      " #   Column                       Dtype  \n",
      "---  ------                       -----  \n",
      " 0   (y_pred, cg_20km_4hr)        float32\n",
      " 1   (y_pred, ic_20km_4hr)        float32\n",
      " 2   (y_pred, cg.ic_20km_4hr)     float32\n",
      " 3   (y_pred, flashes_20km_4hr)   float32\n",
      " 4   (y_pred, cg_40km_4hr)        float32\n",
      " 5   (y_pred, ic_40km_4hr)        float32\n",
      " 6   (y_pred, cg.ic_40km_4hr)     float32\n",
      " 7   (y_pred, flashes_40km_4hr)   float32\n",
      " 8   (y_label, cg_20km_4hr)       float32\n",
      " 9   (y_label, ic_20km_4hr)       float32\n",
      " 10  (y_label, cg.ic_20km_4hr)    float32\n",
      " 11  (y_label, flashes_20km_4hr)  float32\n",
      " 12  (y_label, cg_40km_4hr)       float32\n",
      " 13  (y_label, ic_40km_4hr)       float32\n",
      " 14  (y_label, cg.ic_40km_4hr)    float32\n",
      " 15  (y_label, flashes_40km_4hr)  float32\n",
      "dtypes: float32(16)\n",
      "memory usage: 8.7 GB\n"
     ]
    }
   ],
   "source": [
    "new.info()"
   ]
  },
  {
   "cell_type": "code",
   "execution_count": 17,
   "id": "4e5a90ce-56e2-42cc-8223-9466d6c35406",
   "metadata": {},
   "outputs": [
    {
     "data": {
      "text/html": [
       "<div>\n",
       "<style scoped>\n",
       "    .dataframe tbody tr th:only-of-type {\n",
       "        vertical-align: middle;\n",
       "    }\n",
       "\n",
       "    .dataframe tbody tr th {\n",
       "        vertical-align: top;\n",
       "    }\n",
       "\n",
       "    .dataframe thead tr th {\n",
       "        text-align: left;\n",
       "    }\n",
       "\n",
       "    .dataframe thead tr:last-of-type th {\n",
       "        text-align: right;\n",
       "    }\n",
       "</style>\n",
       "<table border=\"1\" class=\"dataframe\">\n",
       "  <thead>\n",
       "    <tr>\n",
       "      <th>fold</th>\n",
       "      <th>fit</th>\n",
       "      <th>initialization_time</th>\n",
       "      <th>valid_time</th>\n",
       "      <th>y</th>\n",
       "      <th>x</th>\n",
       "      <th>forecast_hour</th>\n",
       "      <th>lat</th>\n",
       "      <th>lon</th>\n",
       "    </tr>\n",
       "  </thead>\n",
       "  <tbody>\n",
       "  </tbody>\n",
       "</table>\n",
       "</div>"
      ],
      "text/plain": [
       "Empty DataFrame\n",
       "Columns: []\n",
       "Index: []"
      ]
     },
     "execution_count": 17,
     "metadata": {},
     "output_type": "execute_result"
    }
   ],
   "source": [
    "old.compare(new.reindex(old.index))"
   ]
  },
  {
   "cell_type": "code",
   "execution_count": 11,
   "id": "9a707512-2944-4896-b9c1-34d6d00c7949",
   "metadata": {},
   "outputs": [
    {
     "ename": "KeyError",
     "evalue": "\"None of ['initialization_time', 'forecast_hour'] are in the columns\"",
     "output_type": "error",
     "traceback": [
      "\u001b[0;31m---------------------------------------------------------------------------\u001b[0m",
      "\u001b[0;31mKeyError\u001b[0m                                  Traceback (most recent call last)",
      "\u001b[0;32m/glade/derecho/scratch/ahijevyc/tmp/ipykernel_1550/3108474800.py\u001b[0m in \u001b[0;36m?\u001b[0;34m()\u001b[0m\n\u001b[0;32m----> 1\u001b[0;31m \u001b[0mold2\u001b[0m \u001b[0;34m=\u001b[0m \u001b[0mold\u001b[0m\u001b[0;34m.\u001b[0m\u001b[0mset_index\u001b[0m\u001b[0;34m(\u001b[0m\u001b[0;34m[\u001b[0m\u001b[0;34m\"initialization_time\"\u001b[0m\u001b[0;34m,\u001b[0m\u001b[0;34m\"forecast_hour\"\u001b[0m\u001b[0;34m]\u001b[0m\u001b[0;34m,\u001b[0m \u001b[0mappend\u001b[0m\u001b[0;34m=\u001b[0m\u001b[0;32mTrue\u001b[0m\u001b[0;34m)\u001b[0m\u001b[0;34m\u001b[0m\u001b[0;34m\u001b[0m\u001b[0m\n\u001b[0m\u001b[1;32m      2\u001b[0m \u001b[0mold2\u001b[0m\u001b[0;34m.\u001b[0m\u001b[0mcompare\u001b[0m\u001b[0;34m(\u001b[0m\u001b[0mnew\u001b[0m\u001b[0;34m.\u001b[0m\u001b[0mset_index\u001b[0m\u001b[0;34m(\u001b[0m\u001b[0;34m[\u001b[0m\u001b[0;34m\"initialization_time\"\u001b[0m\u001b[0;34m,\u001b[0m\u001b[0;34m\"forecast_hour\"\u001b[0m\u001b[0;34m]\u001b[0m\u001b[0;34m,\u001b[0m \u001b[0mappend\u001b[0m\u001b[0;34m=\u001b[0m\u001b[0;32mTrue\u001b[0m\u001b[0;34m)\u001b[0m\u001b[0;34m.\u001b[0m\u001b[0mreindex\u001b[0m\u001b[0;34m(\u001b[0m\u001b[0mold2\u001b[0m\u001b[0;34m.\u001b[0m\u001b[0mindex\u001b[0m\u001b[0;34m)\u001b[0m\u001b[0;34m)\u001b[0m\u001b[0;34m\u001b[0m\u001b[0;34m\u001b[0m\u001b[0m\n",
      "\u001b[0;32m/glade/work/ahijevyc/conda-envs/tf/lib/python3.11/site-packages/pandas/core/frame.py\u001b[0m in \u001b[0;36m?\u001b[0;34m(self, keys, drop, append, inplace, verify_integrity)\u001b[0m\n\u001b[1;32m   6102\u001b[0m                     \u001b[0;32mif\u001b[0m \u001b[0;32mnot\u001b[0m \u001b[0mfound\u001b[0m\u001b[0;34m:\u001b[0m\u001b[0;34m\u001b[0m\u001b[0;34m\u001b[0m\u001b[0m\n\u001b[1;32m   6103\u001b[0m                         \u001b[0mmissing\u001b[0m\u001b[0;34m.\u001b[0m\u001b[0mappend\u001b[0m\u001b[0;34m(\u001b[0m\u001b[0mcol\u001b[0m\u001b[0;34m)\u001b[0m\u001b[0;34m\u001b[0m\u001b[0;34m\u001b[0m\u001b[0m\n\u001b[1;32m   6104\u001b[0m \u001b[0;34m\u001b[0m\u001b[0m\n\u001b[1;32m   6105\u001b[0m         \u001b[0;32mif\u001b[0m \u001b[0mmissing\u001b[0m\u001b[0;34m:\u001b[0m\u001b[0;34m\u001b[0m\u001b[0;34m\u001b[0m\u001b[0m\n\u001b[0;32m-> 6106\u001b[0;31m             \u001b[0;32mraise\u001b[0m \u001b[0mKeyError\u001b[0m\u001b[0;34m(\u001b[0m\u001b[0;34mf\"None of {missing} are in the columns\"\u001b[0m\u001b[0;34m)\u001b[0m\u001b[0;34m\u001b[0m\u001b[0;34m\u001b[0m\u001b[0m\n\u001b[0m\u001b[1;32m   6107\u001b[0m \u001b[0;34m\u001b[0m\u001b[0m\n\u001b[1;32m   6108\u001b[0m         \u001b[0;32mif\u001b[0m \u001b[0minplace\u001b[0m\u001b[0;34m:\u001b[0m\u001b[0;34m\u001b[0m\u001b[0;34m\u001b[0m\u001b[0m\n\u001b[1;32m   6109\u001b[0m             \u001b[0mframe\u001b[0m \u001b[0;34m=\u001b[0m \u001b[0mself\u001b[0m\u001b[0;34m\u001b[0m\u001b[0;34m\u001b[0m\u001b[0m\n",
      "\u001b[0;31mKeyError\u001b[0m: \"None of ['initialization_time', 'forecast_hour'] are in the columns\""
     ]
    }
   ],
   "source": [
    "old2 = old.set_index([\"initialization_time\",\"forecast_hour\"], append=True)\n",
    "old2.compare(new.set_index([\"initialization_time\",\"forecast_hour\"], append=True).reindex(old2.index))"
   ]
  },
  {
   "cell_type": "code",
   "execution_count": 6,
   "id": "d11ed541-7606-40df-bf69-1d7494d885e3",
   "metadata": {},
   "outputs": [
    {
     "data": {
      "text/html": [
       "<div>\n",
       "<style scoped>\n",
       "    .dataframe tbody tr th:only-of-type {\n",
       "        vertical-align: middle;\n",
       "    }\n",
       "\n",
       "    .dataframe tbody tr th {\n",
       "        vertical-align: top;\n",
       "    }\n",
       "\n",
       "    .dataframe thead th {\n",
       "        text-align: right;\n",
       "    }\n",
       "</style>\n",
       "<table border=\"1\" class=\"dataframe\">\n",
       "  <thead>\n",
       "    <tr style=\"text-align: right;\">\n",
       "      <th></th>\n",
       "      <th>cg_20km_4hr</th>\n",
       "      <th>ic_20km_4hr</th>\n",
       "      <th>cg.ic_20km_4hr</th>\n",
       "      <th>cg_40km_4hr</th>\n",
       "      <th>ic_40km_4hr</th>\n",
       "      <th>cg.ic_40km_4hr</th>\n",
       "      <th>flashes_20km_4hr</th>\n",
       "      <th>flashes_40km_4hr</th>\n",
       "    </tr>\n",
       "    <tr>\n",
       "      <th>pt</th>\n",
       "      <th></th>\n",
       "      <th></th>\n",
       "      <th></th>\n",
       "      <th></th>\n",
       "      <th></th>\n",
       "      <th></th>\n",
       "      <th></th>\n",
       "      <th></th>\n",
       "    </tr>\n",
       "  </thead>\n",
       "  <tbody>\n",
       "    <tr>\n",
       "      <th>1304</th>\n",
       "      <td>False</td>\n",
       "      <td>False</td>\n",
       "      <td>False</td>\n",
       "      <td>False</td>\n",
       "      <td>False</td>\n",
       "      <td>False</td>\n",
       "      <td>False</td>\n",
       "      <td>False</td>\n",
       "    </tr>\n",
       "    <tr>\n",
       "      <th>1305</th>\n",
       "      <td>False</td>\n",
       "      <td>False</td>\n",
       "      <td>False</td>\n",
       "      <td>False</td>\n",
       "      <td>False</td>\n",
       "      <td>False</td>\n",
       "      <td>False</td>\n",
       "      <td>False</td>\n",
       "    </tr>\n",
       "    <tr>\n",
       "      <th>1306</th>\n",
       "      <td>False</td>\n",
       "      <td>False</td>\n",
       "      <td>False</td>\n",
       "      <td>False</td>\n",
       "      <td>False</td>\n",
       "      <td>False</td>\n",
       "      <td>False</td>\n",
       "      <td>False</td>\n",
       "    </tr>\n",
       "    <tr>\n",
       "      <th>1307</th>\n",
       "      <td>False</td>\n",
       "      <td>False</td>\n",
       "      <td>False</td>\n",
       "      <td>False</td>\n",
       "      <td>False</td>\n",
       "      <td>False</td>\n",
       "      <td>False</td>\n",
       "      <td>False</td>\n",
       "    </tr>\n",
       "    <tr>\n",
       "      <th>1308</th>\n",
       "      <td>False</td>\n",
       "      <td>False</td>\n",
       "      <td>False</td>\n",
       "      <td>False</td>\n",
       "      <td>False</td>\n",
       "      <td>False</td>\n",
       "      <td>False</td>\n",
       "      <td>False</td>\n",
       "    </tr>\n",
       "  </tbody>\n",
       "</table>\n",
       "</div>"
      ],
      "text/plain": [
       "      cg_20km_4hr  ic_20km_4hr  cg.ic_20km_4hr  cg_40km_4hr  ic_40km_4hr  \\\n",
       "pt                                                                         \n",
       "1304        False        False           False        False        False   \n",
       "1305        False        False           False        False        False   \n",
       "1306        False        False           False        False        False   \n",
       "1307        False        False           False        False        False   \n",
       "1308        False        False           False        False        False   \n",
       "\n",
       "      cg.ic_40km_4hr  flashes_20km_4hr  flashes_40km_4hr  \n",
       "pt                                                        \n",
       "1304           False             False             False  \n",
       "1305           False             False             False  \n",
       "1306           False             False             False  \n",
       "1307           False             False             False  \n",
       "1308           False             False             False  "
      ]
     },
     "execution_count": 6,
     "metadata": {},
     "output_type": "execute_result"
    }
   ],
   "source": [
    "new.tail().iloc[:,-8:] >= 10"
   ]
  },
  {
   "cell_type": "code",
   "execution_count": 7,
   "id": "3bc14dbb-918a-42ca-9ae2-a4255ca06d64",
   "metadata": {},
   "outputs": [
    {
     "ename": "NameError",
     "evalue": "name 'args' is not defined",
     "output_type": "error",
     "traceback": [
      "\u001b[0;31m---------------------------------------------------------------------------\u001b[0m",
      "\u001b[0;31mNameError\u001b[0m                                 Traceback (most recent call last)",
      "Cell \u001b[0;32mIn[7], line 1\u001b[0m\n\u001b[0;32m----> 1\u001b[0m new \u001b[38;5;241m=\u001b[39m ml_functions\u001b[38;5;241m.\u001b[39mrptdist2bool(new, \u001b[43margs\u001b[49m)\n",
      "\u001b[0;31mNameError\u001b[0m: name 'args' is not defined"
     ]
    }
   ],
   "source": [
    "new = ml_functions.rptdist2bool(new, args)"
   ]
  },
  {
   "cell_type": "code",
   "execution_count": null,
   "id": "36a7e6c4-04a0-4255-8a26-20a90ffce06c",
   "metadata": {},
   "outputs": [],
   "source": [
    "old.loc[(slice(None,\"20201104T04\"), slice(None), slice(None), slice(None))]"
   ]
  },
  {
   "cell_type": "code",
   "execution_count": null,
   "id": "69867237-be88-474d-b60e-c5c5119bcb5a",
   "metadata": {},
   "outputs": [],
   "source": [
    "old.columns[-40:]"
   ]
  },
  {
   "cell_type": "code",
   "execution_count": null,
   "id": "b16f6288-634e-4129-8a2a-e2fa4adbcaf5",
   "metadata": {},
   "outputs": [],
   "source": [
    "new[(new.valid_time <= pd.to_datetime(\"20201104T04\"))].set_index([\"valid_time\",\"y\",\"x\",\"forecast_hour\"])"
   ]
  },
  {
   "cell_type": "code",
   "execution_count": null,
   "id": "18d9ad03-d7a0-4961-951d-1fa2863875ce",
   "metadata": {},
   "outputs": [],
   "source": [
    "df = (\n",
    "    new[\n",
    "        (new.valid_time <= pd.to_datetime(\"20201104T04\"))\n",
    "    ].set_index([\"valid_time\",\"y\",\"x\",\"forecast_hour\"])\n",
    "    - old.loc[(slice(None,\"2020-11-04 04:00:00\"), slice(None), slice(None), slice(None))]\n",
    ")\n",
    "df = df.drop(columns={f\"cg_20km_{twin}hr\", f\"flashes_20km_{twin}hr\", f\"ic_20km_{twin}hr\"}).dropna()\n",
    "x = df.loc[:, (df != 0).any(axis=0)].drop(columns=\"initialization_time\")\n",
    "x"
   ]
  },
  {
   "cell_type": "code",
   "execution_count": null,
   "id": "8f4e8509-ea91-43fb-b56c-3c4a13f027fc",
   "metadata": {},
   "outputs": [],
   "source": [
    "x.loc[(x != 0).any(axis=1)]"
   ]
  },
  {
   "cell_type": "code",
   "execution_count": null,
   "id": "e69ac0fa-5086-490f-bc08-b0b77093e51e",
   "metadata": {},
   "outputs": [],
   "source": [
    "x.loc[(x != 0).any(axis=1)].idxmin()"
   ]
  },
  {
   "cell_type": "code",
   "execution_count": null,
   "id": "4a0396e6-3451-4982-9e0f-29d2165d92b0",
   "metadata": {},
   "outputs": [],
   "source": [
    "old.loc[(\"2020-08-25 16:00:00\", 32, 66, 16),[\"lon\",\"lat\",f\"ic_40km_{twin}hr\"]]"
   ]
  },
  {
   "cell_type": "code",
   "execution_count": null,
   "id": "6dd7123c-1516-4432-9384-63cc910f3cc7",
   "metadata": {},
   "outputs": [],
   "source": [
    "new.loc[(new.valid_time==\"2020-08-25 16:00:00\") & (new.y==32) & (new.x==66),[\"forecast_hour\",\"lon\",\"lat\",f\"ic_40km_{twin}hr\"]]"
   ]
  },
  {
   "cell_type": "code",
   "execution_count": null,
   "id": "a1e9f17a-2199-4435-8e9d-af98893afcdd",
   "metadata": {},
   "outputs": [],
   "source": [
    "old = old.set_index(\"initialization_time\", append=True)\n",
    "old.index = old.index.reorder_levels(order=[\"initialization_time\", \"valid_time\", \"y\", \"x\"])"
   ]
  },
  {
   "cell_type": "code",
   "execution_count": null,
   "id": "10c56b7d-552f-4e12-9dfe-9388ebb0c703",
   "metadata": {},
   "outputs": [],
   "source": [
    "new = new.set_index([\"initialization_time\", \"valid_time\", \"y\", \"x\"])"
   ]
  },
  {
   "cell_type": "code",
   "execution_count": null,
   "id": "83b43286-76c6-4d99-a933-2a6b9e8b6cf7",
   "metadata": {},
   "outputs": [],
   "source": [
    "d=(new-old).dropna(subset=\"CAPESHEAR\")"
   ]
  },
  {
   "cell_type": "code",
   "execution_count": null,
   "id": "76807660-1f5b-4fdd-a1af-d2bd64a7b5aa",
   "metadata": {},
   "outputs": [],
   "source": [
    "d.head()"
   ]
  },
  {
   "cell_type": "code",
   "execution_count": null,
   "id": "a6d4fb14-a45f-4988-993b-ace25605a8eb",
   "metadata": {
    "tags": []
   },
   "outputs": [],
   "source": [
    "parser = ml_functions.get_argparser()\n",
    "args, argv = parser.parse_known_args()\n",
    "args.batchnorm = True\n",
    "args.model = 'HRRR'\n",
    "args.epochs = 10\n",
    "args.debug = False\n",
    "args.kfold = 1\n",
    "args.learning_rate = 0.01\n",
    "args.neurons = [32,32]\n",
    "args.optimizer = 'SGD'\n",
    "args.suite = \"with_storm_mode\"\n",
    "args.teststart = pd.to_datetime(\"19000101\")\n",
    "args.testend = pd.to_datetime(\"20220101\")\n",
    "args.labels = ['sighail_40km_2hr', 'sigwind_40km_2hr', 'hailone_40km_2hr', 'wind_40km_2hr', 'torn_40km_2hr', 'any_40km_2hr']"
   ]
  },
  {
   "cell_type": "code",
   "execution_count": null,
   "id": "17764c11-952e-46dd-826f-205fb92f8ac7",
   "metadata": {},
   "outputs": [],
   "source": [
    "new = ml_functions.rptdist2bool(new, args)\n"
   ]
  },
  {
   "cell_type": "code",
   "execution_count": null,
   "id": "b2ff9fa3-e361-4a71-8b37-cd7bca794f78",
   "metadata": {},
   "outputs": [],
   "source": [
    "new[[\"sighail_40km_2hr\",\"sigwind_40km_2hr\"]].groupby(\"initialization_time\").mean().plot()"
   ]
  },
  {
   "cell_type": "code",
   "execution_count": null,
   "id": "d70b8c06-524b-48c7-9b72-5178b20602ae",
   "metadata": {},
   "outputs": [],
   "source": [
    "new[[\"sighail_40km_2hr\",\"sigwind_40km_2hr\"]].groupby(\"initialization_time\").mean().plot()"
   ]
  },
  {
   "cell_type": "code",
   "execution_count": null,
   "id": "8a3b67ca-ff44-495c-8d4d-1b4fcf37a0b1",
   "metadata": {},
   "outputs": [],
   "source": [
    "rptdist = 40\n",
    "lsrtypes = [\"sighail\", \"sigwind\", \"hailone\", \"wind\", \"torn\"]\n",
    "oldtwin = [0,1,2]\n",
    "label_cols = [f\"{r}_rptdist_{t}hr\" for r in lsrtypes for t in oldtwin]\n",
    "# refer to new label names (with f\"{rptdist}km\" not f\"rptdist\")\n",
    "new_label_cols = {r:r.replace(\"rptdist\", f\"{rptdist}km\") for r in label_cols}\n",
    "label_cols = list(new_label_cols.values())\n",
    "new_label_cols"
   ]
  },
  {
   "cell_type": "code",
   "execution_count": null,
   "id": "f73718fd-39e2-4cce-8ad2-be3be36a6c84",
   "metadata": {},
   "outputs": [],
   "source": [
    "old = old.rename(columns=new_label_cols, copy=False)\n",
    "old[label_cols] = (0 <= old[label_cols]) & (old[label_cols] < rptdist)"
   ]
  },
  {
   "cell_type": "code",
   "execution_count": null,
   "id": "5516688c-deec-4bd6-8735-226e92adb2ee",
   "metadata": {},
   "outputs": [],
   "source": [
    "new = new.rename(columns=new_label_cols, copy=False)\n",
    "new[label_cols] = (0 <= new[label_cols]) & (new[label_cols] < rptdist)"
   ]
  },
  {
   "cell_type": "code",
   "execution_count": null,
   "id": "12c1eb96-644b-415a-b535-5bed2914bcd3",
   "metadata": {},
   "outputs": [],
   "source": [
    "xx = old.sigwind_40km_2hr.groupby([\"y\",\"x\"]).mean()\n",
    "xx.reset_index().plot(x=\"x\",y=\"y\", kind=\"scatter\", c=xx)"
   ]
  },
  {
   "cell_type": "code",
   "execution_count": null,
   "id": "7297d51a-a275-4d54-942d-a7e0c3683809",
   "metadata": {},
   "outputs": [],
   "source": [
    "yy = new.sigwind_40km_2hr.groupby([\"y\",\"x\"]).mean() - old.sigwind_40km_2hr.groupby([\"y\",\"x\"]).mean()\n",
    "yy.reset_index().plot(x=\"x\",y=\"y\", kind=\"scatter\", c = yy, colormap=\"cool\")"
   ]
  },
  {
   "cell_type": "code",
   "execution_count": null,
   "id": "25d7bcaf-ad96-4385-b213-0cfc5cd14251",
   "metadata": {},
   "outputs": [],
   "source": [
    "sl = new.xs(slice(\"20210101\",\"20211231T12\"), level=\"initialization_time\")"
   ]
  },
  {
   "cell_type": "code",
   "execution_count": null,
   "id": "e9c9b575-5377-466d-8b41-f1dfe09626c8",
   "metadata": {},
   "outputs": [],
   "source": [
    "sl.mean().tail(40)"
   ]
  },
  {
   "cell_type": "code",
   "execution_count": null,
   "id": "d4fa93ad-7a57-4522-a66b-8c131134cfbe",
   "metadata": {},
   "outputs": [],
   "source": [
    "cr.tail(40)"
   ]
  },
  {
   "cell_type": "code",
   "execution_count": null,
   "id": "3cad5d8b-a30e-4b80-b70e-c75b723a2839",
   "metadata": {},
   "outputs": [],
   "source": [
    "set(new.columns) - set(old.columns)"
   ]
  },
  {
   "cell_type": "code",
   "execution_count": null,
   "id": "28970085-b058-49c0-a373-58cbbf6674ee",
   "metadata": {},
   "outputs": [],
   "source": [
    "set(old.columns) - set(new.columns)"
   ]
  },
  {
   "cell_type": "code",
   "execution_count": null,
   "id": "2a979af7-21e3-4b2b-aa3d-0d594c4a6c89",
   "metadata": {},
   "outputs": [],
   "source": [
    "old.torn_40km_0hr.max()"
   ]
  },
  {
   "cell_type": "code",
   "execution_count": null,
   "id": "0b61c1ca-5a95-4957-a262-0a41f6ceee28",
   "metadata": {},
   "outputs": [],
   "source": [
    "old.index.get_level_values(\"initialization_time\").min(),old.index.get_level_values(\"initialization_time\").max()"
   ]
  },
  {
   "cell_type": "code",
   "execution_count": null,
   "id": "3a5ab5c5-afad-4cb2-b48e-84e547652ca5",
   "metadata": {},
   "outputs": [],
   "source": [
    "new.index.get_level_values(\"initialization_time\").min(),new.index.get_level_values(\"initialization_time\").max()"
   ]
  },
  {
   "cell_type": "code",
   "execution_count": null,
   "id": "fe31d26d-8f70-4182-99ae-b550bfb24457",
   "metadata": {},
   "outputs": [],
   "source": [
    "pd.to_datetime(new.index.get_level_values(\"initialization_time\"))"
   ]
  },
  {
   "cell_type": "code",
   "execution_count": null,
   "id": "d7128c87-848e-4fc9-b7a8-718b1546da7a",
   "metadata": {},
   "outputs": [],
   "source": [
    "old.index.equals(new.index)"
   ]
  },
  {
   "cell_type": "code",
   "execution_count": null,
   "id": "bb60116c-72bd-4844-a84c-6fb8538f4e06",
   "metadata": {},
   "outputs": [],
   "source": [
    "all(new.index.get_level_values(\"initialization_time\") == old.index.get_level_values(\"initialization_time\"))"
   ]
  },
  {
   "cell_type": "code",
   "execution_count": null,
   "id": "b1e3b519-2c11-444e-b096-2330da5edc26",
   "metadata": {},
   "outputs": [],
   "source": [
    "np.array_equal(old.iloc[:,40:244].values , new.iloc[:,40:244].values, equal_nan=True )"
   ]
  },
  {
   "cell_type": "code",
   "execution_count": null,
   "id": "5e3b663c-37a0-40e6-ba84-10d4c3c7dec7",
   "metadata": {},
   "outputs": [],
   "source": [
    "new.columns[224:]"
   ]
  },
  {
   "cell_type": "code",
   "execution_count": null,
   "id": "7dc067ef-e4b5-45d7-b55b-707fd3198bf4",
   "metadata": {},
   "outputs": [],
   "source": [
    "import numpy as np"
   ]
  },
  {
   "cell_type": "code",
   "execution_count": null,
   "id": "e94605e7-ae02-4f75-8862-c664e09545dd",
   "metadata": {},
   "outputs": [],
   "source": []
  }
 ],
 "metadata": {
  "kernelspec": {
   "display_name": "Python [conda env:tf]",
   "language": "python",
   "name": "conda-env-tf-py"
  },
  "language_info": {
   "codemirror_mode": {
    "name": "ipython",
    "version": 3
   },
   "file_extension": ".py",
   "mimetype": "text/x-python",
   "name": "python",
   "nbconvert_exporter": "python",
   "pygments_lexer": "ipython3",
   "version": "3.11.7"
  }
 },
 "nbformat": 4,
 "nbformat_minor": 5
}

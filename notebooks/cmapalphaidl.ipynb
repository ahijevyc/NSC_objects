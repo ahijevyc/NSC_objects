{
 "cells": [
  {
   "cell_type": "code",
   "execution_count": 30,
   "id": "4eb85fa6-820e-4d05-8547-a84d03e3bc1b",
   "metadata": {},
   "outputs": [],
   "source": [
    "import atcf\n",
    "import matplotlib.pyplot as plt\n",
    "import matplotlib.colors as mcolors\n",
    "import numpy as np"
   ]
  },
  {
   "cell_type": "code",
   "execution_count": 26,
   "id": "c3cf988e-58d3-4f1a-bd6f-b90fde43dd1b",
   "metadata": {},
   "outputs": [
    {
     "data": {
      "text/plain": [
       "{'TD': (0.1, 0.66, 0.85),\n",
       " 'TS': (0.5, 0.8, 0.34),\n",
       " 'CAT1': (0.97, 0.94, 0.25),\n",
       " 'CAT2': (0.99, 0.75, 0.05),\n",
       " 'CAT3': (0.95, 0.46, 0.2),\n",
       " 'CAT4': (1, 0.07, 0.07),\n",
       " 'CAT5': (0.77, 0.09, 0.77)}"
      ]
     },
     "execution_count": 26,
     "metadata": {},
     "output_type": "execute_result"
    }
   ],
   "source": [
    "colors = atcf.colors\n",
    "colors"
   ]
  },
  {
   "cell_type": "code",
   "execution_count": 46,
   "id": "79d1883e-5be0-48bd-975f-2af2be2c711a",
   "metadata": {},
   "outputs": [],
   "source": [
    "def alpha(fg, a, bg=(1.,1.,1.)):\n",
    "    fg = np.array(fg)\n",
    "    bg = np.array(bg)\n",
    "    return tuple(fg * a + bg * (1. - a))"
   ]
  },
  {
   "cell_type": "code",
   "execution_count": 69,
   "id": "486f5b00-4d38-47f4-998c-f6931ad7d18c",
   "metadata": {},
   "outputs": [
    {
     "name": "stdout",
     "output_type": "stream",
     "text": [
      "cTD = [186, 229, 244]\n",
      "cTS = [217, 240, 205]\n",
      "cCAT1 = [253, 250, 198]\n",
      "cCAT2 = [254, 236, 182]\n",
      "cCAT3 = [251, 214, 194]\n",
      "cCAT4 = [255, 184, 184]\n",
      "cCAT5 = [237, 185, 237]\n"
     ]
    },
    {
     "data": {
      "image/png": "[encoded data removed]",
      "text/plain": [
       "<Figure size 640x480 with 2 Axes>"
      ]
     },
     "metadata": {},
     "output_type": "display_data"
    }
   ],
   "source": [
    "cmapa = {k:alpha(v,0.3) for k, v in atcf.colors.items()}\n",
    "\n",
    "n = len(colors)\n",
    "cbar=plt.cm.ScalarMappable(norm=mcolors.Normalize(vmin=0,vmax=n), cmap=mcolors.ListedColormap(cmapa.values()))\n",
    "fig, ax = plt.subplots()\n",
    "axCbar=plt.colorbar(cbar, ax=ax, orientation=\"horizontal\", drawedges=True)\n",
    "axCbar.set_ticks(np.array(range(n))+0.5)\n",
    "axCbar.set_ticklabels(colors.keys())\n",
    "\n",
    "print(\"\\n\".join([f\"c{k} = [{r*255:.0f}, {g*255:.0f}, {b*255:.0f}]\" for (k, (r,g,b)) in cmapa.items()]))"
   ]
  },
  {
   "cell_type": "code",
   "execution_count": null,
   "id": "192e9589-9371-44ba-a3d5-2362e56b501e",
   "metadata": {},
   "outputs": [],
   "source": []
  }
 ],
 "metadata": {
  "kernelspec": {
   "display_name": "NPL 2024a",
   "language": "python",
   "name": "npl-2024a"
  },
  "language_info": {
   "codemirror_mode": {
    "name": "ipython",
    "version": 3
   },
   "file_extension": ".py",
   "mimetype": "text/x-python",
   "name": "python",
   "nbconvert_exporter": "python",
   "pygments_lexer": "ipython3",
   "version": "3.11.6"
  }
 },
 "nbformat": 4,
 "nbformat_minor": 5
}

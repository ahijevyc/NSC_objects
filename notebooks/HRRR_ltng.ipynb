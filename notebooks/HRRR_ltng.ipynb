{
 "cells": [
  {
   "cell_type": "code",
   "execution_count": 1,
   "id": "35b4ef6e-80e3-4f2f-b0d8-ad33afe20ac4",
   "metadata": {},
   "outputs": [],
   "source": [
    "import matplotlib.pyplot as plt\n",
    "from metpy.units import units\n",
    "import numpy as np\n",
    "import os\n",
    "import pandas as pd\n",
    "from pathlib import Path\n",
    "import pygrib\n",
    "from statisticplot import make_map\n",
    "import xarray"
   ]
  },
  {
   "cell_type": "code",
   "execution_count": 2,
   "id": "27db0f58-5a71-43a9-a70f-a5562012d6ad",
   "metadata": {},
   "outputs": [],
   "source": [
    "from awips.dataaccess import DataAccessLayer\n",
    "import cartopy.crs as ccrs\n",
    "import cartopy.feature as cfeature\n",
    "from cartopy.mpl.gridliner import LONGITUDE_FORMATTER, LATITUDE_FORMATTER"
   ]
  },
  {
   "cell_type": "code",
   "execution_count": 3,
   "id": "81372ca2-bd92-4b7f-a1ed-d9639b95d007",
   "metadata": {},
   "outputs": [],
   "source": [
    "# Unidata's cloud EDEX instance is used in this example\n",
    "edex_url = \"edex-cloud.unidata.ucar.edu\"\n",
    "DataAccessLayer.changeEDEXHost(edex_url)"
   ]
  },
  {
   "cell_type": "code",
   "execution_count": 4,
   "id": "ba8ee3df-f3fb-41f1-ac10-8f200cdbb543",
   "metadata": {},
   "outputs": [
    {
     "data": {
      "text/plain": [
       "['acars',\n",
       " 'airep',\n",
       " 'binlightning',\n",
       " 'bufrmosAVN',\n",
       " 'bufrmosETA',\n",
       " 'bufrmosGFS',\n",
       " 'bufrmosHPC',\n",
       " 'bufrmosLAMP',\n",
       " 'bufrmosMRF',\n",
       " 'bufrua',\n",
       " 'climate',\n",
       " 'common_obs_spatial',\n",
       " 'gfe',\n",
       " 'gfeEditArea',\n",
       " 'grid',\n",
       " 'maps',\n",
       " 'modelsounding',\n",
       " 'obs',\n",
       " 'pirep',\n",
       " 'practicewarning',\n",
       " 'profiler',\n",
       " 'radar',\n",
       " 'radar_spatial',\n",
       " 'satellite',\n",
       " 'sfcobs',\n",
       " 'topo',\n",
       " 'warning']"
      ]
     },
     "execution_count": 4,
     "metadata": {},
     "output_type": "execute_result"
    }
   ],
   "source": [
    "dataTypes = DataAccessLayer.getSupportedDatatypes()\n",
    "dataTypes.sort()\n",
    "list(dataTypes)"
   ]
  },
  {
   "cell_type": "code",
   "execution_count": 5,
   "id": "91dd3636-4a17-434f-a8b5-8118c24a7948",
   "metadata": {},
   "outputs": [],
   "source": [
    "# Create a request for data type grid\n",
    "grid_request = DataAccessLayer.newDataRequest()\n",
    "grid_request.setDatatype(\"grid\")"
   ]
  },
  {
   "cell_type": "code",
   "execution_count": 6,
   "id": "34b9f979-c81c-4c63-b404-dd5fee3a08a7",
   "metadata": {},
   "outputs": [
    {
     "data": {
      "text/plain": [
       "['AUTOSPE',\n",
       " 'ESTOFS',\n",
       " 'ETSS',\n",
       " 'FFG-ALR',\n",
       " 'FFG-FWR',\n",
       " 'FFG-KRF',\n",
       " 'FFG-MSR',\n",
       " 'FFG-ORN',\n",
       " 'FFG-PTR',\n",
       " 'FFG-RHA',\n",
       " 'FFG-RSA',\n",
       " 'FFG-STR',\n",
       " 'FFG-TAR',\n",
       " 'FFG-TIR',\n",
       " 'FFG-TUA',\n",
       " 'GFS1p0',\n",
       " 'GFS20',\n",
       " 'GlobalWave',\n",
       " 'HFR-EAST_6KM',\n",
       " 'HFR-EAST_PR_6KM',\n",
       " 'HFR-US_EAST_DELAWARE_1KM',\n",
       " 'HFR-US_EAST_FLORIDA_2KM',\n",
       " 'HFR-US_EAST_NORTH_2KM',\n",
       " 'HFR-US_EAST_SOUTH_2KM',\n",
       " 'HFR-US_EAST_VIRGINIA_1KM',\n",
       " 'HFR-US_HAWAII_1KM',\n",
       " 'HFR-US_HAWAII_2KM',\n",
       " 'HFR-US_HAWAII_6KM',\n",
       " 'HFR-US_WEST_500M',\n",
       " 'HFR-US_WEST_CENCAL_2KM',\n",
       " 'HFR-US_WEST_LOSANGELES_1KM',\n",
       " 'HFR-US_WEST_LOSOSOS_1KM',\n",
       " 'HFR-US_WEST_NORTH_2KM',\n",
       " 'HFR-US_WEST_SANFRAN_1KM',\n",
       " 'HFR-US_WEST_SOCAL_2KM',\n",
       " 'HFR-US_WEST_WASHINGTON_1KM',\n",
       " 'HFR-WEST_6KM',\n",
       " 'HPCGuide',\n",
       " 'HPCqpfNDFD',\n",
       " 'HRRR',\n",
       " 'HRRR-Smoke',\n",
       " 'LAMP2p5',\n",
       " 'MRMS_0500',\n",
       " 'MRMS_1000',\n",
       " 'MRMS_AK_1000',\n",
       " 'MRMS_CA_0500',\n",
       " 'MRMS_CA_1000',\n",
       " 'MRMS_GU_0500',\n",
       " 'MRMS_HI_0500',\n",
       " 'NAM12',\n",
       " 'NAM40',\n",
       " 'NOHRSC-SNOW',\n",
       " 'NationalBlend',\n",
       " 'RAP13',\n",
       " 'RTMA',\n",
       " 'RTOFS-Now-WestAtl',\n",
       " 'RTOFS-Now-WestConus',\n",
       " 'RTOFS-WestAtl',\n",
       " 'RTOFS-WestConus',\n",
       " 'SPCGuide',\n",
       " 'SeaIce',\n",
       " 'TPCWindProb',\n",
       " 'URMA25']"
      ]
     },
     "execution_count": 6,
     "metadata": {},
     "output_type": "execute_result"
    }
   ],
   "source": [
    "# Grid Locations\n",
    "grid_locations = DataAccessLayer.getAvailableLocationNames(grid_request)\n",
    "grid_locations.sort()\n",
    "list(grid_locations)"
   ]
  },
  {
   "cell_type": "code",
   "execution_count": 7,
   "id": "9eb64e06-2838-41c3-8a24-4d5aa22d803f",
   "metadata": {},
   "outputs": [
    {
     "data": {
      "text/plain": [
       "['36SHRMi',\n",
       " '50dbzZ',\n",
       " 'AV',\n",
       " 'Along',\n",
       " 'AppT',\n",
       " 'BLI',\n",
       " 'BRN',\n",
       " 'BRNEHIi',\n",
       " 'BRNSHR',\n",
       " 'BRNmag',\n",
       " 'BRNvec',\n",
       " 'BdEPT06',\n",
       " 'BlkMag',\n",
       " 'BlkShr',\n",
       " 'CAPE',\n",
       " 'CCP',\n",
       " 'CFRZR',\n",
       " 'CICEP',\n",
       " 'CIn',\n",
       " 'CPOFP',\n",
       " 'CPr',\n",
       " 'CPrD',\n",
       " 'CRAIN',\n",
       " 'CSNOW',\n",
       " 'CURU',\n",
       " 'CXR',\n",
       " 'CapeStk',\n",
       " 'Corf',\n",
       " 'CorfF',\n",
       " 'CorfFM',\n",
       " 'CorfM',\n",
       " 'CritT1',\n",
       " 'CumNrm',\n",
       " 'CumShr',\n",
       " 'DivF',\n",
       " 'DivFn',\n",
       " 'DivFs',\n",
       " 'DpD',\n",
       " 'DpT',\n",
       " 'EHI',\n",
       " 'EHI01',\n",
       " 'EHIi',\n",
       " 'EPT',\n",
       " 'EPTA',\n",
       " 'EPTC',\n",
       " 'EPTGrd',\n",
       " 'EPTGrdM',\n",
       " 'EPTs',\n",
       " 'EPVg',\n",
       " 'EPVs',\n",
       " 'EPVt1',\n",
       " 'EPVt2',\n",
       " 'ESP',\n",
       " 'ESP2',\n",
       " 'FVecs',\n",
       " 'FeatMot',\n",
       " 'FnVecs',\n",
       " 'FsVecs',\n",
       " 'Fzra1',\n",
       " 'Fzra2',\n",
       " 'GH',\n",
       " 'GHxSM',\n",
       " 'GHxSM2',\n",
       " 'GVV',\n",
       " 'GVV1hr',\n",
       " 'Gust',\n",
       " 'HCDC',\n",
       " 'HI4',\n",
       " 'HIdx',\n",
       " 'HPBL',\n",
       " 'Heli',\n",
       " 'HeliC',\n",
       " 'INV',\n",
       " 'IPLayer',\n",
       " 'Into',\n",
       " 'KI',\n",
       " 'L-I',\n",
       " 'LCDC',\n",
       " 'LIsfc2x',\n",
       " 'LM5',\n",
       " 'LM6',\n",
       " 'LTNG',\n",
       " 'MAXDVV',\n",
       " 'MAXDVV1hr',\n",
       " 'MAXREF',\n",
       " 'MAXREF1hr',\n",
       " 'MAXUPHL',\n",
       " 'MAXUVV',\n",
       " 'MAXUVV1hr',\n",
       " 'MAdv',\n",
       " 'MCDC',\n",
       " 'MCon',\n",
       " 'MCon2',\n",
       " 'MLLCL',\n",
       " 'MMP',\n",
       " 'MSFDi',\n",
       " 'MSFi',\n",
       " 'MSFmi',\n",
       " 'MSG',\n",
       " 'MTV',\n",
       " 'MXDVV',\n",
       " 'MXREF',\n",
       " 'MXUPHL',\n",
       " 'MXUPHL1hr',\n",
       " 'MXUVV',\n",
       " 'MaxDVV',\n",
       " 'MaxREF1hr',\n",
       " 'MaxUPHL1hr',\n",
       " 'MaxUVV',\n",
       " 'MaxWGS1hr',\n",
       " 'MaxWHRRR',\n",
       " 'Mix1',\n",
       " 'Mix2',\n",
       " 'Mmag',\n",
       " 'MpV',\n",
       " 'NBE',\n",
       " 'NST',\n",
       " 'NST1',\n",
       " 'NST2',\n",
       " 'P',\n",
       " 'PAdv',\n",
       " 'PBE',\n",
       " 'PEC',\n",
       " 'PFrnt',\n",
       " 'PGrd',\n",
       " 'PGrd1',\n",
       " 'PGrdM',\n",
       " 'PIVA',\n",
       " 'PLPL',\n",
       " 'PMSL',\n",
       " 'PTvA',\n",
       " 'PTyp',\n",
       " 'PW',\n",
       " 'PW2',\n",
       " 'PoT',\n",
       " 'PoTA',\n",
       " 'QPV1',\n",
       " 'QPV2',\n",
       " 'QPV3',\n",
       " 'QPV4',\n",
       " 'REFC',\n",
       " 'REFD',\n",
       " 'RETOP',\n",
       " 'RH',\n",
       " 'RH_001_bin',\n",
       " 'RH_002_bin',\n",
       " 'RM5',\n",
       " 'RM6',\n",
       " 'RMprop',\n",
       " 'RMprop2',\n",
       " 'RR',\n",
       " 'RRtype',\n",
       " 'RV',\n",
       " 'Rain1',\n",
       " 'Rain2',\n",
       " 'Rain3',\n",
       " 'Ro',\n",
       " 'SH',\n",
       " 'SHx',\n",
       " 'SLI',\n",
       " 'SNSQ',\n",
       " 'SNW',\n",
       " 'SNWA',\n",
       " 'SRMl',\n",
       " 'SRMlM',\n",
       " 'SRMm',\n",
       " 'SRMmM',\n",
       " 'SRMr',\n",
       " 'SRMrM',\n",
       " 'SSP',\n",
       " 'SSi',\n",
       " 'STP',\n",
       " 'STP1',\n",
       " 'Shear',\n",
       " 'ShrMag',\n",
       " 'SnD',\n",
       " 'Snow1',\n",
       " 'Snow2',\n",
       " 'Snow3',\n",
       " 'SnowT',\n",
       " 'StrTP',\n",
       " 'StrmMot',\n",
       " 'SuCP',\n",
       " 'T',\n",
       " 'TAdv',\n",
       " 'TCC',\n",
       " 'TCOLG',\n",
       " 'TCOLG1hr',\n",
       " 'TGrd',\n",
       " 'TGrdM',\n",
       " 'TORi',\n",
       " 'TORi2',\n",
       " 'TP',\n",
       " 'TP1hr',\n",
       " 'TQIND',\n",
       " 'TShrMi',\n",
       " 'TV',\n",
       " 'TW',\n",
       " 'T_001_bin',\n",
       " 'Tdef',\n",
       " 'Tdend',\n",
       " 'ThGrd',\n",
       " 'ThetaE',\n",
       " 'Thom5',\n",
       " 'Thom5a',\n",
       " 'Thom6',\n",
       " 'TmDpD',\n",
       " 'Tmax',\n",
       " 'Tmin',\n",
       " 'Topo',\n",
       " 'TotQi',\n",
       " 'Tstk',\n",
       " 'TwMax',\n",
       " 'TwMin',\n",
       " 'Twstk',\n",
       " 'TxSM',\n",
       " 'USTM',\n",
       " 'VAdv',\n",
       " 'VAdvAdvection',\n",
       " 'VGP',\n",
       " 'VILIQ',\n",
       " 'VSTM',\n",
       " 'VUCSH',\n",
       " 'VVCSH',\n",
       " 'Vis',\n",
       " 'WCD',\n",
       " 'WD',\n",
       " 'WEASD1hr',\n",
       " 'WGS',\n",
       " 'WGS1hr',\n",
       " 'WS',\n",
       " 'WS1hr',\n",
       " 'Wind',\n",
       " 'WndChl',\n",
       " 'ageoW',\n",
       " 'ageoWM',\n",
       " 'cCape',\n",
       " 'cCin',\n",
       " 'cTOT',\n",
       " 'capeToLvl',\n",
       " 'dCape',\n",
       " 'dP',\n",
       " 'dT',\n",
       " 'dVAdv',\n",
       " 'dZ',\n",
       " 'defV',\n",
       " 'del2gH',\n",
       " 'fGen',\n",
       " 'fnD',\n",
       " 'fsD',\n",
       " 'gamma',\n",
       " 'gammaE',\n",
       " 'geoVort',\n",
       " 'geoW',\n",
       " 'geoWM',\n",
       " 'loCape',\n",
       " 'maxEPT',\n",
       " 'minEPT',\n",
       " 'mixRat',\n",
       " 'msl-P',\n",
       " 'muCape',\n",
       " 'pV',\n",
       " 'pVeq',\n",
       " 'qDiv',\n",
       " 'qVec',\n",
       " 'qnVec',\n",
       " 'qsVec',\n",
       " 'shWlt',\n",
       " 'snoRat',\n",
       " 'snoRatCrocus',\n",
       " 'snoRatEMCSREF',\n",
       " 'snoRatOv2',\n",
       " 'snoRatSPC',\n",
       " 'snoRatSPCdeep',\n",
       " 'snoRatSPCsurface',\n",
       " 'staticCoriolis',\n",
       " 'staticSpacing',\n",
       " 'staticTopo',\n",
       " 'swtIdx',\n",
       " 'tTOT',\n",
       " 'tWind',\n",
       " 'tWindU',\n",
       " 'tWindV',\n",
       " 'uFX',\n",
       " 'uW',\n",
       " 'uWStk',\n",
       " 'ulSnoRat',\n",
       " 'vSmthW',\n",
       " 'vTOT',\n",
       " 'vW',\n",
       " 'vWStk',\n",
       " 'wDiv',\n",
       " 'wSp',\n",
       " 'wSp_001_bin',\n",
       " 'wSp_002_bin',\n",
       " 'wSp_003_bin',\n",
       " 'wSp_004_bin',\n",
       " 'zAGL']"
      ]
     },
     "execution_count": 7,
     "metadata": {},
     "output_type": "execute_result"
    }
   ],
   "source": [
    "# Pick a model and set the location for the grid request -- we'll be using the Global Forecast System (GFS)\n",
    "grid_request.setLocationNames(\"HRRR\")\n",
    "grid_params = DataAccessLayer.getAvailableParameters(grid_request)\n",
    "grid_params.sort()\n",
    "list(grid_params)"
   ]
  },
  {
   "cell_type": "code",
   "execution_count": 8,
   "id": "7a1d5aff-7124-44d0-9201-8947a52fded3",
   "metadata": {},
   "outputs": [
    {
     "name": "stdout",
     "output_type": "stream",
     "text": [
      "0.0EA\n"
     ]
    }
   ],
   "source": [
    "parameters = [\"LTNG\",\"REFC\"]\n",
    "grid_request.setParameters(*parameters)\n",
    "grid_levels = DataAccessLayer.getAvailableLevels(grid_request)\n",
    "for lvl in grid_levels:\n",
    "    print(lvl)"
   ]
  },
  {
   "cell_type": "code",
   "execution_count": 9,
   "id": "f2f4a352-de71-40b7-8d6e-f78990c88bde",
   "metadata": {},
   "outputs": [
    {
     "data": {
      "text/plain": [
       "['LTNG', 'REFC']"
      ]
     },
     "execution_count": 9,
     "metadata": {},
     "output_type": "execute_result"
    }
   ],
   "source": [
    "grid_request.getParameters()"
   ]
  },
  {
   "cell_type": "code",
   "execution_count": 10,
   "id": "da2f68e8-3eaa-4b47-bc61-fcdf6d81ce7f",
   "metadata": {},
   "outputs": [
    {
     "data": {
      "text/plain": [
       "[<DataTime instance: 2023-06-13 19:00:00 >,\n",
       " <DataTime instance: 2023-06-13 20:00:00 >,\n",
       " <DataTime instance: 2023-06-13 21:00:00 >,\n",
       " <DataTime instance: 2023-06-13 22:00:00 >]"
      ]
     },
     "execution_count": 10,
     "metadata": {},
     "output_type": "execute_result"
    }
   ],
   "source": [
    "grid_cycles = DataAccessLayer.getAvailableTimes(grid_request, True)\n",
    "grid_cycles"
   ]
  },
  {
   "cell_type": "code",
   "execution_count": 11,
   "id": "11e20136-b384-44de-9254-dab7bd1643da",
   "metadata": {},
   "outputs": [
    {
     "name": "stdout",
     "output_type": "stream",
     "text": [
      "2023-06-13 21:00:00.000 : 1.0 hours\n",
      "2023-06-13 21:00:00.000 : 2.0 hours\n",
      "2023-06-13 21:00:00.000 : 3.0 hours\n",
      "2023-06-13 21:00:00.000 : 4.0 hours\n",
      "2023-06-13 21:00:00.000 : 5.0 hours\n",
      "2023-06-13 21:00:00.000 : 6.0 hours\n",
      "2023-06-13 21:00:00.000 : 7.0 hours\n",
      "2023-06-13 21:00:00.000 : 9.0 hours\n",
      "2023-06-13 21:00:00.000 : 10.0 hours\n",
      "2023-06-13 21:00:00.000 : 11.0 hours\n",
      "2023-06-13 21:00:00.000 : 12.0 hours\n",
      "2023-06-13 21:00:00.000 : 13.0 hours\n",
      "2023-06-13 21:00:00.000 : 14.0 hours\n",
      "2023-06-13 21:00:00.000 : 15.0 hours\n",
      "2023-06-13 21:00:00.000 : 16.0 hours\n",
      "2023-06-13 21:00:00.000 : 17.0 hours\n",
      "2023-06-13 21:00:00.000 : 18.0 hours\n"
     ]
    }
   ],
   "source": [
    "# Available grid times\n",
    "grid_times = DataAccessLayer.getAvailableTimes(grid_request)\n",
    "## Using -1 in an array will access the last element of the array \n",
    "##  (using -2 will access the second last element, and so on)\n",
    "grid_fcstRun = DataAccessLayer.getForecastRun(grid_cycles[-2], grid_times)\n",
    "\n",
    "## print out the time instances\n",
    "times = []\n",
    "for fcst in grid_fcstRun:\n",
    "    print(fcst.getRefTime(), ':', fcst.getFcstTime()/3600, 'hours')"
   ]
  },
  {
   "cell_type": "code",
   "execution_count": 12,
   "id": "3932bd88-0d88-4443-a163-e16dc35ebdb0",
   "metadata": {},
   "outputs": [],
   "source": [
    "## Grid Data\n",
    "get_fhr = 8\n",
    "grid_response = DataAccessLayer.getGridData(grid_request, [grid_fcstRun[get_fhr]])"
   ]
  },
  {
   "cell_type": "code",
   "execution_count": 13,
   "id": "353f16ae-a2cb-4bf3-8f2d-18d41fac84fa",
   "metadata": {},
   "outputs": [
    {
     "name": "stdout",
     "output_type": "stream",
     "text": [
      "Time : 2023-06-13 21:00:00 + 10.0 hours\n",
      "Parm : LTNG\n",
      "Unit : count\n",
      "Model: HRRR\n",
      "(1377, 2145)\n"
     ]
    }
   ],
   "source": [
    "for grid in grid_response:\n",
    "    grid_data = grid.getRawData()\n",
    "    grid_data = np.ma.array(grid_data, mask=grid_data==-999999.)\n",
    "    lons, lats = grid.getLatLonCoords()\n",
    "    print('Time :', grid.getDataTime(), \"+\", grid.getDataTime().getFcstTime()/3600, 'hours')\n",
    "    ## Take a look at some information in our data\n",
    "    print('Parm :', str(grid.getParameter()))\n",
    "    print('Unit :', str(grid.getUnit()))\n",
    "\n",
    "valid_time = pd.to_datetime(str(grid.getDataTime())) + pd.Timedelta(seconds=grid.getDataTime().getFcstTime())\n",
    "print('Model:', str(grid.getLocationName()))\n",
    "print(grid_data.shape)"
   ]
  },
  {
   "cell_type": "code",
   "execution_count": 14,
   "id": "ac87bac0-c5a1-4280-a072-d395ff622d66",
   "metadata": {},
   "outputs": [
    {
     "ename": "ValueError",
     "evalue": "not enough values to unpack (expected 2, got 1)",
     "output_type": "error",
     "traceback": [
      "\u001b[0;31m---------------------------------------------------------------------------\u001b[0m",
      "\u001b[0;31mValueError\u001b[0m                                Traceback (most recent call last)",
      "Cell \u001b[0;32mIn [14], line 1\u001b[0m\n\u001b[0;32m----> 1\u001b[0m ltng, refc \u001b[38;5;241m=\u001b[39m (np\u001b[38;5;241m.\u001b[39mma\u001b[38;5;241m.\u001b[39marray(grid\u001b[38;5;241m.\u001b[39mgetRawData(), mask\u001b[38;5;241m=\u001b[39mgrid\u001b[38;5;241m.\u001b[39mgetRawData()\u001b[38;5;241m==\u001b[39m\u001b[38;5;241m-\u001b[39m\u001b[38;5;241m999999.\u001b[39m) \u001b[38;5;28;01mfor\u001b[39;00m grid \u001b[38;5;129;01min\u001b[39;00m grid_response)\n",
      "\u001b[0;31mValueError\u001b[0m: not enough values to unpack (expected 2, got 1)"
     ]
    }
   ],
   "source": [
    "ltng, refc = (np.ma.array(grid.getRawData(), mask=grid.getRawData()==-999999.) for grid in grid_response)"
   ]
  },
  {
   "cell_type": "code",
   "execution_count": null,
   "id": "6c405742-ab08-42d6-8c83-00fe29d07a7a",
   "metadata": {},
   "outputs": [],
   "source": [
    "bbox = [lons.min(), lons.max(), lats.min(), lats.max()]\n",
    "ltng.mask = ltng <= 0.01"
   ]
  },
  {
   "cell_type": "code",
   "execution_count": null,
   "id": "3e5ed2df-9c85-4fd2-a74e-22463f01160b",
   "metadata": {},
   "outputs": [],
   "source": [
    "grid_response"
   ]
  },
  {
   "cell_type": "code",
   "execution_count": null,
   "id": "13b9b87c-cf27-48f9-a08f-cd6ab5e93355",
   "metadata": {},
   "outputs": [],
   "source": [
    "cmap = plt.get_cmap('rainbow')\n",
    "bbox = [-103, -97, 40, 43]\n",
    "fig, ax = make_map(bbox=None)\n",
    "cs = ax.pcolormesh(lons, lats, ltng, transform=ccrs.PlateCarree(), \n",
    "                   cmap=cmap)\n",
    "\n",
    "cbar = fig.colorbar(cs, shrink=0.7, orientation='vertical')\n",
    "cbar.set_label(grid_response[parameters.index(\"LTNG\")].getLevel() + \" \" \\\n",
    "               + grid_response[parameters.index(\"LTNG\")].getParameter())\n",
    "rc = ax.contour(lons, lats, refc, levels=[30,45,60], transform=ccrs.PlateCarree())\n",
    "cb2 = fig.colorbar(rc, shrink=0.7, orientation='vertical')\n",
    "cb2.set_label(grid_response[parameters.index(\"REFC\")].getLevel() + \" \" \\\n",
    "              + grid_response[parameters.index(\"REFC\")].getParameter())\n",
    "ax.set_title(grid_response[0].getLocationName() + \" init \" \\\n",
    "             + str(grid.getDataTime().getRefTime()) + \" valid \" + valid_time.strftime(\"%Y-%m-%d %H:%M:%S\"))"
   ]
  },
  {
   "cell_type": "code",
   "execution_count": null,
   "id": "d633d3e8-d20e-4fa4-9647-43b716be205c",
   "metadata": {},
   "outputs": [],
   "source": [
    "fhr = grid.getDataTime()\n",
    "fhr = pd.Timedelta(seconds=fhr.getFcstTime())/pd.Timedelta(hours=1)\n",
    "fhr = int(fhr)"
   ]
  },
  {
   "cell_type": "code",
   "execution_count": null,
   "id": "84ff9afe-f751-4c24-89ec-0b18374402ff",
   "metadata": {},
   "outputs": [],
   "source": [
    "itime=grid.getDataTime()\n",
    "itime = pd.to_datetime(str(itime))\n",
    "# We only pull 0,6,12,18z initialization times\n",
    "itime = itime.floor(pd.Timedelta(hours=6))"
   ]
  },
  {
   "cell_type": "code",
   "execution_count": null,
   "id": "585445c9-8641-4a54-8f56-9ea01ba37880",
   "metadata": {},
   "outputs": [],
   "source": [
    "hh = itime.hour\n",
    "idir = Path(\"HRRR/HRRR\") / itime.strftime(\"%Y%m%d%H\")\n",
    "ds = xarray.open_dataset(idir/f\"hrrr.t{hh}z.wrfsfcf{fhr:02d}.grib2\",\n",
    "                         filter_by_keys={'typeOfLevel': 'atmosphere', 'stepType': 'instant'},\n",
    "                         backend_kwargs={\"indexpath\": os.getenv('TMPDIR') + \"/{short_hash}.idx\"}\n",
    ")"
   ]
  },
  {
   "cell_type": "code",
   "execution_count": null,
   "id": "02839e5e-76dc-4704-8e5b-49c21610dd86",
   "metadata": {},
   "outputs": [],
   "source": [
    "ds.ltng.plot(vmin=-1)"
   ]
  },
  {
   "cell_type": "code",
   "execution_count": null,
   "id": "cb85a689-a6f2-427f-b553-cfc70b3d7014",
   "metadata": {},
   "outputs": [],
   "source": [
    "ds"
   ]
  },
  {
   "cell_type": "code",
   "execution_count": null,
   "id": "30b09472-d937-4bb3-becc-f65fee250153",
   "metadata": {},
   "outputs": [],
   "source": [
    "ds"
   ]
  }
 ],
 "metadata": {
  "kernelspec": {
   "display_name": "Python [conda env:python3-awips]",
   "language": "python",
   "name": "conda-env-python3-awips-py"
  },
  "language_info": {
   "codemirror_mode": {
    "name": "ipython",
    "version": 3
   },
   "file_extension": ".py",
   "mimetype": "text/x-python",
   "name": "python",
   "nbconvert_exporter": "python",
   "pygments_lexer": "ipython3",
   "version": "3.10.11"
  }
 },
 "nbformat": 4,
 "nbformat_minor": 5
}

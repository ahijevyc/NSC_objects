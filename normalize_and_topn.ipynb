{
 "cells": [
  {
   "cell_type": "code",
   "execution_count": 1,
   "metadata": {},
   "outputs": [],
   "source": [
    "import datetime\n",
    "import glob\n",
    "import HWT_mode_train\n",
    "import matplotlib.pyplot as plt\n",
    "import numpy as np\n",
    "import os\n",
    "import pandas as pd\n",
    "import pdb\n",
    "import pickle\n",
    "import re\n",
    "import scalar2vector\n",
    "import seaborn as sns\n",
    "import sys\n",
    "from tensorflow.keras.models import load_model"
   ]
  },
  {
   "cell_type": "code",
   "execution_count": 21,
   "metadata": {},
   "outputs": [],
   "source": [
    "min_confidence= 3\n",
    "debug         = True\n",
    "field         = \"REFL_COM\"\n",
    "idir          = \"/glade/scratch/ahijevyc\"\n",
    "segmentations = [\"hyst\"]\n",
    "nmem          = 10\n",
    "nns = [f\"/glade/work/ahijevyc/NSC_objects/nn_basic.Q1.S1.D1.alllabel.confmin1.ep35.bs10_{i}\" for i in range(nmem)]"
   ]
  },
  {
   "cell_type": "code",
   "execution_count": 17,
   "metadata": {},
   "outputs": [
    {
     "name": "stdout",
     "output_type": "stream",
     "text": [
      "reading 539 csv files matching /glade/scratch/ahijevyc/track_data_ncarstorm_3km_REFL_COM_hyst_csv/track_step_NCARSTORM_d01_2*.csv\n"
     ]
    }
   ],
   "source": [
    "dfs = pd.DataFrame()\n",
    "for segmentation in segmentations:\n",
    "    searchstr = idir+\"/track_data_ncarstorm_3km_\"+field+\"_\"+segmentation+\"_csv/track_step_NCARSTORM_d01_2*.csv\"\n",
    "    cfiles = glob.glob(searchstr)\n",
    "    nfiles = len(cfiles)\n",
    "    if nfiles == 0:\n",
    "        print(\"no files match \"+searchstr)\n",
    "        sys.exit(1)\n",
    "\n",
    "    print(\"reading\",nfiles,\"csv files matching \"+searchstr) \n",
    "    df = [pd.read_csv(cfile, parse_dates=[\"Run_Date\",\"Valid_Date\"]).set_index(\"Step_ID\") for cfile in cfiles]\n",
    "    df = pd.concat(df)\n",
    "    df['segmentation'] = segmentation\n",
    "    dfs = dfs.append(df)"
   ]
  },
  {
   "cell_type": "code",
   "execution_count": 26,
   "metadata": {},
   "outputs": [
    {
     "data": {
      "text/plain": [
       "{'Q1': 'QLCS\\nQ1+Q2+S2', 'S1': 'Supercell\\nS1+S3', 'D1': 'Disorganized\\nD1+D2'}"
      ]
     },
     "execution_count": 26,
     "metadata": {},
     "output_type": "execute_result"
    }
   ],
   "source": [
    "HWT_mode_train.label_longname_dict()\n"
   ]
  },
  {
   "cell_type": "code",
   "execution_count": 22,
   "metadata": {},
   "outputs": [],
   "source": [
    "# Derive vector magnitude, drop scalar components - already done earlier\n",
    "# dfs = scalar2vector.scalar2vector(dfs, debug=debug)\n",
    "\n",
    "# Only keep objects with significant negative or positive UH. Those were the only ones labeled.\n",
    "dfs=dfs[(dfs.UP_HELI_MAX_max >= 25) | (dfs.UP_HELI_MIN_min <= -25)]\n",
    "\n",
    "dfs=dfs[(dfs.Forecast_Hour >= 14) & (dfs.Forecast_Hour <=34)]\n",
    "#dfs = dfs[dfs.Run_Date.dt.year == 2013]\n",
    "\n",
    "scaler_file = 'scaler.pkl'\n",
    "if os.path.exists(scaler_file):\n",
    "    scaler = pickle.load(open(scaler_file,'rb'))\n",
    "else:\n",
    "    scaler = dfs.describe()\n",
    "    pickle.dump(scaler, open(scaler_file,'wb'))\n",
    "    sys.exit(0)\n",
    "\n",
    "scaled_dfs = (dfs.select_dtypes(include=\"number\") - scaler.loc[\"mean\"])/scaler.loc[\"std\"]\n",
    "0,0\n",
    "features = HWT_mode_train.get_features(suite=\"basic\")\n",
    "\n"
   ]
  },
  {
   "cell_type": "code",
   "execution_count": 23,
   "metadata": {},
   "outputs": [],
   "source": [
    "vyyyymmddhh = dfs[\"Run_Date\"].dt.strftime(\"%Y%m%d%H/\").values\n",
    "preds = []\n",
    "for nn in nns:\n",
    "    model = load_model(nn, custom_objects={\"brier_score\":HWT_mode_train.brier_score, \n",
    "                                       \"brier_skill_score\":HWT_mode_train.brier_skill_score})\n",
    "    preds.append(model.predict(scaled_dfs[features]))\n",
    "pred = np.array(preds).mean(axis=0)"
   ]
  },
  {
   "cell_type": "code",
   "execution_count": 29,
   "metadata": {},
   "outputs": [
    {
     "name": "stdout",
     "output_type": "stream",
     "text": [
      "mkdir -p Q1\n",
      "cp /glade/scratch/ahijevyc/track_data_ncarstorm_3km_REFL_COM_hyst_csv/2012060100/d01_REFL_COM_20120601-0000_12_14_000_02_+0.png /glade/scratch/ahijevyc/track_data_ncarstorm_3km_REFL_COM_hyst_csv/2012060100/d01_REFL_COM_20120601-0000_12_14_009_02_+0.png /glade/scratch/ahijevyc/track_data_ncarstorm_3km_REFL_COM_hyst_csv/2012060100/d01_REFL_COM_20120601-0000_12_15_011_02_+0.png /glade/scratch/ahijevyc/track_data_ncarstorm_3km_REFL_COM_hyst_csv/2012060100/d01_REFL_COM_20120601-0000_12_15_011_03_+0.png /glade/scratch/ahijevyc/track_data_ncarstorm_3km_REFL_COM_hyst_csv/2012060100/d01_REFL_COM_20120601-0000_13_14_017_01_+0.png ./Q1\n",
      "mkdir -p S1\n",
      "cp /glade/scratch/ahijevyc/track_data_ncarstorm_3km_REFL_COM_hyst_csv/2012060100/d01_REFL_COM_20120601-0000_12_14_000_02_+0.png /glade/scratch/ahijevyc/track_data_ncarstorm_3km_REFL_COM_hyst_csv/2012060100/d01_REFL_COM_20120601-0000_12_14_009_02_+0.png /glade/scratch/ahijevyc/track_data_ncarstorm_3km_REFL_COM_hyst_csv/2012060100/d01_REFL_COM_20120601-0000_12_15_011_02_+0.png /glade/scratch/ahijevyc/track_data_ncarstorm_3km_REFL_COM_hyst_csv/2012060100/d01_REFL_COM_20120601-0000_12_15_011_03_+0.png /glade/scratch/ahijevyc/track_data_ncarstorm_3km_REFL_COM_hyst_csv/2012060100/d01_REFL_COM_20120601-0000_13_14_017_01_+0.png ./S1\n",
      "mkdir -p D1\n",
      "cp /glade/scratch/ahijevyc/track_data_ncarstorm_3km_REFL_COM_hyst_csv/2012060100/d01_REFL_COM_20120601-0000_12_14_000_02_+0.png /glade/scratch/ahijevyc/track_data_ncarstorm_3km_REFL_COM_hyst_csv/2012060100/d01_REFL_COM_20120601-0000_12_14_009_02_+0.png /glade/scratch/ahijevyc/track_data_ncarstorm_3km_REFL_COM_hyst_csv/2012060100/d01_REFL_COM_20120601-0000_12_15_011_02_+0.png /glade/scratch/ahijevyc/track_data_ncarstorm_3km_REFL_COM_hyst_csv/2012060100/d01_REFL_COM_20120601-0000_12_15_011_03_+0.png /glade/scratch/ahijevyc/track_data_ncarstorm_3km_REFL_COM_hyst_csv/2012060100/d01_REFL_COM_20120601-0000_13_14_017_01_+0.png ./D1\n"
     ]
    }
   ],
   "source": [
    "labels = HWT_mode_train.label_longname_dict()\n",
    "labels = labels.keys()\n",
    "#labels = [\"Q1\",\"D1\",\"D2\",\"S1\",\"Q2\",\"S3\",\"S2\"]\n",
    "\n",
    "# TODO: save and restore labels (in correct order). HWT_mode_train.py stores them randomly?\n",
    "\n",
    "\n",
    "pd.options.display.max_colwidth=200\n",
    "xx = pd.concat([dfs.reset_index(), pd.DataFrame(pred, columns=labels)], axis='columns')\n",
    "idir = \"https://www2.mmm.ucar.edu/projects/ncar_ensemble/classifymode/mode_img/\"\n",
    "idir = \"/glade/scratch/ahijevyc/track_data_ncarstorm_3km_REFL_COM_hyst_csv/\"\n",
    "xx[\"fn\"] = vyyyymmddhh + xx[\"Step_ID\"] + \"_+0.png\"\n",
    "for l in labels:\n",
    "    print(f\"mkdir -p {l}\")\n",
    "    local = True\n",
    "    if local:\n",
    "        print(\"cp \", end=\"\")\n",
    "        print(\" \".join(idir + xx.drop(columns=\"Step_ID\").sort_values(by=l, ascending=False).reset_index(drop=True).head(5)[\"fn\"].values)+\" ./\"+l)\n",
    "    else:\n",
    "        print(\"scp casper.ucar.edu:\"+idir+\"\\{\", end=\"\")\n",
    "        print(\",\".join(xx.drop(columns=\"Step_ID\").sort_values(by=l, ascending=False).reset_index(drop=True).head(5)[\"fn\"].values)+\"\\} ./\"+l)"
   ]
  },
  {
   "cell_type": "code",
   "execution_count": 9,
   "metadata": {},
   "outputs": [
    {
     "data": {
      "text/plain": [
       "\u001b[0;31mDocstring:\u001b[0m\n",
       "Return the current working directory path.\n",
       "\n",
       "Examples\n",
       "--------\n",
       "::\n",
       "\n",
       "  In [9]: pwd\n",
       "  Out[9]: '/home/tsuser/sprint/ipython'\n",
       "\u001b[0;31mFile:\u001b[0m      /glade/work/ahijevyc/NSC_objects/20201220_casper_daa/lib/python3.7/site-packages/IPython/core/magics/osm.py\n"
      ]
     },
     "metadata": {},
     "output_type": "display_data"
    }
   ],
   "source": [
    "pwd?"
   ]
  },
  {
   "cell_type": "code",
   "execution_count": 28,
   "metadata": {},
   "outputs": [
    {
     "data": {
      "text/plain": [
       "{'Q1': 'QLCS\\nQ1+Q2+S2', 'S1': 'Supercell\\nS1+S3', 'D1': 'Disorganized\\nD1+D2'}"
      ]
     },
     "execution_count": 28,
     "metadata": {},
     "output_type": "execute_result"
    }
   ],
   "source": [
    "labels"
   ]
  },
  {
   "cell_type": "code",
   "execution_count": null,
   "metadata": {},
   "outputs": [],
   "source": []
  }
 ],
 "metadata": {
  "kernelspec": {
   "display_name": "Python 3",
   "language": "python",
   "name": "python3"
  },
  "language_info": {
   "codemirror_mode": {
    "name": "ipython",
    "version": 3
   },
   "file_extension": ".py",
   "mimetype": "text/x-python",
   "name": "python",
   "nbconvert_exporter": "python",
   "pygments_lexer": "ipython3",
   "version": "3.7.9"
  }
 },
 "nbformat": 4,
 "nbformat_minor": 4
}
